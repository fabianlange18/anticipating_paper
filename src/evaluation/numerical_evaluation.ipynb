{
 "cells": [
  {
   "cell_type": "code",
   "execution_count": 9,
   "metadata": {},
   "outputs": [],
   "source": [
    "from stable_baselines3 import PPO\n",
    "import numpy as np\n",
    "import sys\n",
    "sys.path.append(\"..\")\n",
    "from simulation import simulate_policy\n",
    "from evaluation.evaluator import Evaluator\n",
    "from tqdm import trange"
   ]
  },
  {
   "cell_type": "code",
   "execution_count": 10,
   "metadata": {},
   "outputs": [],
   "source": [
    "model = PPO.load(\"../../src/results/02_0-10_duopoly/model.zip\")"
   ]
  },
  {
   "cell_type": "code",
   "execution_count": 11,
   "metadata": {},
   "outputs": [],
   "source": [
    "import config\n",
    "\n",
    "config.customers_types = ['recurring']\n",
    "config.customer_mix = [1]\n",
    "config.competitor = True\n"
   ]
  },
  {
   "cell_type": "code",
   "execution_count": 12,
   "metadata": {},
   "outputs": [],
   "source": [
    "## Agent\n",
    "# Per Customer Type\n",
    "n_buys = {customer_type: [] for customer_type in config.customers_types}\n",
    "reward = {customer_type: [] for customer_type in config.customers_types}\n",
    "sales_price = {customer_type: [] for customer_type in config.customers_types}\n",
    "# Total\n",
    "offer_price = []\n",
    "total_sales_price = []\n",
    "total_reward = []\n",
    "total_buys = []\n",
    "## Competitor\n",
    "# Per Customer Type\n",
    "comp_n_buys = {customer_type: [] for customer_type in config.customers_types}\n",
    "comp_reward = {customer_type: [] for customer_type in config.customers_types}\n",
    "comp_sales_price = {customer_type: [] for customer_type in config.customers_types}\n",
    "# Total\n",
    "comp_offer_price = []\n",
    "comp_total_sales_price = []\n",
    "comp_total_reward = []\n",
    "comp_total_buys = []"
   ]
  },
  {
   "cell_type": "code",
   "execution_count": 13,
   "metadata": {},
   "outputs": [
    {
     "name": "stderr",
     "output_type": "stream",
     "text": [
      "100%|██████████| 1000/1000 [00:20<00:00, 49.78it/s]\n"
     ]
    }
   ],
   "source": [
    "for _ in trange(config.n_eval_episodes):\n",
    "    infos = simulate_policy(model)\n",
    "    infos = {key: value[config.episode_length // 2:] for key, value in infos.items()}\n",
    "\n",
    "    infos = Evaluator().add_concatenated_infos(infos)\n",
    "\n",
    "    i_reward = 0\n",
    "    i_n_buys = 0\n",
    "\n",
    "    comp_i_reward = 0\n",
    "    comp_i_n_buys = 0\n",
    "\n",
    "    for customer_type in config.customers_types:\n",
    "        n_buys[customer_type].append(np.sum(infos[f'n_{customer_type}_buy']))\n",
    "        reward[customer_type].append(np.sum(infos[f'{customer_type}_reward']))\n",
    "        sales_price[customer_type].append(reward[customer_type][-1] / n_buys[customer_type][-1])\n",
    "\n",
    "        i_reward += reward[customer_type][-1]\n",
    "        i_n_buys += n_buys[customer_type][-1]\n",
    "\n",
    "        if config.competitor:\n",
    "            comp_n_buys[customer_type].append(np.sum(infos[f'n_{customer_type}_competitor_buy']))\n",
    "            comp_reward[customer_type].append(np.sum(infos[f'{customer_type}_competitor_reward']))\n",
    "            comp_sales_price[customer_type].append(comp_reward[customer_type][-1] / comp_n_buys[customer_type][-1])\n",
    "\n",
    "            comp_i_reward += comp_reward[customer_type][-1]\n",
    "            comp_i_n_buys += comp_n_buys[customer_type][-1]\n",
    "\n",
    "    \n",
    "    offer_price.append(np.mean(infos['agent_offer_price']))\n",
    "    total_reward.append(i_reward)\n",
    "    total_buys.append(i_n_buys)\n",
    "    total_sales_price.append(i_reward / i_n_buys)\n",
    "\n",
    "    if config.competitor:\n",
    "        comp_offer_price.append(np.mean(infos['competitor_offer_price']))\n",
    "        comp_total_reward.append(comp_i_reward)\n",
    "        comp_total_buys.append(comp_i_n_buys)\n",
    "        comp_total_sales_price.append(comp_i_reward / comp_i_n_buys)\n"
   ]
  },
  {
   "cell_type": "code",
   "execution_count": 14,
   "metadata": {},
   "outputs": [
    {
     "name": "stdout",
     "output_type": "stream",
     "text": [
      " --- Agent ---\n",
      "recurring:\n",
      "\tAverage Sales Price: 5.982901996501499\n",
      "\tn Buys: 883.359\n",
      "\tReward: 5285.055039756775\n",
      "\n",
      "Average Offer Price: 7.009186186109271\n"
     ]
    }
   ],
   "source": [
    "print(' --- Agent ---')\n",
    "for customer_type in config.customers_types:\n",
    "    print(f'{customer_type}:')\n",
    "    print(f'\\tAverage Sales Price: {np.mean(sales_price[customer_type])}')\n",
    "    print(f'\\tn Buys: {np.mean(n_buys[customer_type])}')\n",
    "    print(f'\\tReward: {np.mean(reward[customer_type])}')\n",
    "    print()\n",
    "print(f'Average Offer Price: {np.mean(offer_price)}')\n",
    "#print(f'Average Sales Price: {np.mean(total_sales_price)}')\n",
    "#print(f'Average Total Buys: {np.mean(total_buys)}')\n",
    "#print(f'Average Total Reward: {np.mean(total_reward)}')"
   ]
  },
  {
   "cell_type": "code",
   "execution_count": 15,
   "metadata": {},
   "outputs": [
    {
     "name": "stdout",
     "output_type": "stream",
     "text": [
      " --- Competitor ---\n",
      "recurring:\n",
      "\tAverage Sales Price: 4.880912594693501\n",
      "\tn Buys: 791.646\n",
      "\tReward: 3863.966268081665\n",
      "\n",
      "Average Offer Price: 6.005005025863649\n"
     ]
    }
   ],
   "source": [
    "if config.competitor:\n",
    "    print(' --- Competitor ---')\n",
    "    for customer_type in config.customers_types:\n",
    "        print(f'{customer_type}:')\n",
    "        print(f'\\tAverage Sales Price: {np.mean(comp_sales_price[customer_type])}')\n",
    "        print(f'\\tn Buys: {np.mean(comp_n_buys[customer_type])}')\n",
    "        print(f'\\tReward: {np.mean(comp_reward[customer_type])}')\n",
    "        print()\n",
    "    print(f'Average Offer Price: {np.mean(comp_offer_price)}')\n",
    "#    print(f'Average Sales Price: {np.mean(comp_total_sales_price)}')\n",
    "#    print(f'Average Total Buys: {np.mean(comp_total_buys)}')\n",
    "#    print(f'Average Total Reward: {np.mean(comp_total_reward)}')"
   ]
  },
  {
   "cell_type": "code",
   "execution_count": 16,
   "metadata": {},
   "outputs": [
    {
     "name": "stdout",
     "output_type": "stream",
     "text": [
      " --- Total ---\n",
      "recurring:\n",
      "\tAverage Sales Price: 5.462085968602147\n",
      "\tn Buys: 1675.005\n",
      "\tReward: 9149.02130783844\n",
      "\n"
     ]
    }
   ],
   "source": [
    "if config.competitor:\n",
    "    print(' --- Total ---')\n",
    "    for customer_type in config.customers_types:\n",
    "        print(f'{customer_type}:')\n",
    "        total_n_buys = np.mean(np.add(n_buys[customer_type], comp_n_buys[customer_type]))\n",
    "        total_reward = np.mean(np.add(reward[customer_type], comp_reward[customer_type]))\n",
    "        print(f'\\tAverage Sales Price: {total_reward / total_n_buys}')\n",
    "        print(f'\\tn Buys: {total_n_buys}')\n",
    "        print(f'\\tReward: {total_reward}')\n",
    "        print()\n",
    "#    print(f'Average Offer Price: {np.mean((offer_price + comp_offer_price)}')\n",
    "#    total_buys = np.mean(np.add(total_buys, comp_total_buys))\n",
    "#    total_reward = np.mean(np.add(total_reward, comp_total_reward))\n",
    "#    print(f'Average Sales Price: {total_reward / total_buys}')\n",
    "#    print(f'Average Total Buys: {total_buys}')\n",
    "#    print(f'Average Total Reward: {total_reward}')"
   ]
  }
 ],
 "metadata": {
  "kernelspec": {
   "display_name": "Python 3",
   "language": "python",
   "name": "python3"
  },
  "language_info": {
   "codemirror_mode": {
    "name": "ipython",
    "version": 3
   },
   "file_extension": ".py",
   "mimetype": "text/x-python",
   "name": "python",
   "nbconvert_exporter": "python",
   "pygments_lexer": "ipython3",
   "version": "3.11.3"
  }
 },
 "nbformat": 4,
 "nbformat_minor": 2
}
